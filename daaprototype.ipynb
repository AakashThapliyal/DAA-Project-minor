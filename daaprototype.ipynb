{
 "cells": [
  {
   "cell_type": "code",
   "execution_count": 1,
   "id": "c331adf0-228f-4cac-95da-c4d4a9432da9",
   "metadata": {},
   "outputs": [
    {
     "name": "stdin",
     "output_type": "stream",
     "text": [
      "Enter the number of students:  3\n",
      "Enter student name:  aakash\n",
      "Enter student ID:  7\n",
      "Enter student email:  aakash@gmail.com\n",
      "Enter student name:  anuj\n",
      "Enter student ID:  89\n",
      "Enter student email:  anuj@gmail.com\n",
      "Enter student name:  bhanu\n",
      "Enter student ID:  2\n",
      "Enter student email:  bhanu@gmail.com\n"
     ]
    },
    {
     "name": "stdout",
     "output_type": "stream",
     "text": [
      "\n",
      "Students sorted by ID:\n",
      "\n",
      "ID: 2, Name: bhanu, Email: bhanu@gmail.com\n",
      "ID: 7, Name: aakash, Email: aakash@gmail.com\n",
      "ID: 89, Name: anuj, Email: anuj@gmail.com\n"
     ]
    }
   ],
   "source": [
    "#function for quicksort based on student ID\n",
    "def quicksort(arr):\n",
    "    length = len(arr)\n",
    "    if length <= 1:\n",
    "        return arr\n",
    "    else:\n",
    "        pivot = arr.pop()  # takes the last element as pivot\n",
    "    high = []\n",
    "    low = []\n",
    "    \n",
    "    for item in arr:\n",
    "        if item['id'] > pivot['id']:\n",
    "            high.append(item)  # Append to high if the student's ID is greater than the pivot\n",
    "        else:\n",
    "            low.append(item)   # Append to low otherwise\n",
    "            \n",
    "    return quicksort(low) + [pivot] + quicksort(high)\n",
    "\n",
    "#function to take input\n",
    "def input_students():\n",
    "    students = []\n",
    "    num_students = int(input(\"Enter the number of students: \"))\n",
    "\n",
    "    for _ in range(num_students):\n",
    "        name = input(\"Enter student name: \")\n",
    "        student_id = input(\"Enter student ID: \")\n",
    "        email = input(\"Enter student email: \")\n",
    "        # Append student info as a dictionary\n",
    "        students.append({\"name\": name, \"id\": int(student_id), \"email\": email})\n",
    "    \n",
    "    return students\n",
    "\n",
    "#main function\n",
    "def main():\n",
    "    students = input_students()\n",
    "    \n",
    "    sorted_students = quicksort(students)\n",
    "    \n",
    "    print(\"\\nStudents sorted by ID:\\n\")\n",
    "    for student in sorted_students:\n",
    "        print(f\"ID: {student['id']}, Name: {student['name']}, Email: {student['email']}\")\n",
    "\n",
    "if __name__ == \"__main__\":\n",
    "    main()\n"
   ]
  },
  {
   "cell_type": "code",
   "execution_count": null,
   "id": "f7a63d19-d965-4a59-bc89-25093669c14f",
   "metadata": {},
   "outputs": [],
   "source": []
  }
 ],
 "metadata": {
  "kernelspec": {
   "display_name": "Python 3 (ipykernel)",
   "language": "python",
   "name": "python3"
  },
  "language_info": {
   "codemirror_mode": {
    "name": "ipython",
    "version": 3
   },
   "file_extension": ".py",
   "mimetype": "text/x-python",
   "name": "python",
   "nbconvert_exporter": "python",
   "pygments_lexer": "ipython3",
   "version": "3.12.5"
  },
  "widgets": {
   "application/vnd.jupyter.widget-state+json": {
    "state": {},
    "version_major": 2,
    "version_minor": 0
   }
  }
 },
 "nbformat": 4,
 "nbformat_minor": 5
}
